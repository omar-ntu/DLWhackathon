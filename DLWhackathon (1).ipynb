{
  "nbformat": 4,
  "nbformat_minor": 0,
  "metadata": {
    "colab": {
      "provenance": [],
      "collapsed_sections": []
    },
    "kernelspec": {
      "name": "python3",
      "display_name": "Python 3"
    },
    "language_info": {
      "name": "python"
    }
  },
  "cells": [
    {
      "cell_type": "code",
      "execution_count": null,
      "metadata": {
        "id": "7EaIdzsV9aeF"
      },
      "outputs": [],
      "source": [
        "from __future__ import absolute_import, division, print_function, unicode_literals\n",
        "\n",
        "import numpy as np\n",
        "import pandas as pd\n",
        "import matplotlib.pyplot as plt\n",
        "from IPython.display import clear_output\n",
        "from six.moves import urllib\n",
        "\n",
        "import tensorflow.compat.v2.feature_column as fc\n",
        "\n",
        "import tensorflow as tf\n",
        "\n",
        "%matplotlib  inline"
      ]
    },
    {
      "cell_type": "code",
      "source": [
        "# input data file\n",
        "\n",
        "from google.colab import files\n",
        "uploaded = files.upload()"
      ],
      "metadata": {
        "id": "szijIUvt9g_U"
      },
      "execution_count": null,
      "outputs": []
    },
    {
      "cell_type": "code",
      "source": [
        "import io\n",
        "\n",
        "# change data file name accordingly\n",
        "data = pd.read_csv('datasheet2.csv', names = ['attempts', 'score'])\n",
        "print(data)"
      ],
      "metadata": {
        "id": "mjE2KChH9g9I"
      },
      "execution_count": null,
      "outputs": []
    },
    {
      "cell_type": "code",
      "source": [
        "## Split ATTEMPTS and MARKS into X and y\n",
        "X_df = pd.DataFrame(data.attempt)\n",
        "y_df = pd.DataFrame(data.topic1)\n",
        "\n",
        "## Length, or number of observations, in our data\n",
        "m = len(y_df)"
      ],
      "metadata": {
        "id": "9zRTPIbf9g7I"
      },
      "execution_count": null,
      "outputs": []
    },
    {
      "cell_type": "code",
      "source": [
        "plt.figure(figsize=(10,8))\n",
        "plt.plot(X_df, y_df, 'kx')\n",
        "plt.xlabel('Number of Attempts')\n",
        "plt.ylabel('Marks Obtained')\n",
        "plt.title('Progress Report of Student A in Topic 1')"
      ],
      "metadata": {
        "id": "Kz2OuWPp9g4_"
      },
      "execution_count": null,
      "outputs": []
    },
    {
      "cell_type": "code",
      "source": [
        "plt.figure(figsize=(10,8))\n",
        "plt.plot(X_df, y_df, 'k.')\n",
        "plt.plot([5, 22], [6,6], '-')\n",
        "plt.plot([5, 22], [0,20], '-')\n",
        "plt.plot([5, 15], [-5,25], '-')\n",
        "plt.xlabel('Number of Attempts')\n",
        "plt.ylabel('Marks Obtained')"
      ],
      "metadata": {
        "id": "EBLU7Jbt9g21"
      },
      "execution_count": null,
      "outputs": []
    },
    {
      "cell_type": "code",
      "source": [
        "x_quad = [n/10 for n in range(0, 100)]\n",
        "y_quad = [(n-4)**2+5 for n in x_quad]"
      ],
      "metadata": {
        "id": "rxS6DmeY9g0r"
      },
      "execution_count": null,
      "outputs": []
    },
    {
      "cell_type": "code",
      "source": [
        "plt.figure(figsize = (10,7))\n",
        "plt.plot(x_quad, y_quad, 'k--')\n",
        "plt.axis([0,10,0,30])\n",
        "plt.plot([1, 2, 3], [14, 9, 6], 'ro')\n",
        "plt.plot([5, 7, 8],[6, 14, 21], 'bo')\n",
        "plt.plot(4, 5, 'ko')\n",
        "plt.xlabel('x')\n",
        "plt.ylabel('f(x)')\n",
        "plt.title('Quadratic Equation')"
      ],
      "metadata": {
        "id": "21QbUSqh9gyz"
      },
      "execution_count": null,
      "outputs": []
    },
    {
      "cell_type": "code",
      "source": [
        "iterations = 1500\n",
        "alpha = 0.01"
      ],
      "metadata": {
        "id": "B177NqhD9gwq"
      },
      "execution_count": null,
      "outputs": []
    },
    {
      "cell_type": "code",
      "source": [
        "## Add a columns of 1s as intercept to X\n",
        "X_df['intercept'] = 1\n",
        "\n",
        "## Transform to Numpy arrays for easier matrix math and start theta at 0\n",
        "X = np.array(X_df)\n",
        "y = np.array(y_df).flatten()\n",
        "theta = np.array([0, 0])"
      ],
      "metadata": {
        "id": "51AfF9Y69guz"
      },
      "execution_count": null,
      "outputs": []
    },
    {
      "cell_type": "code",
      "source": [
        "def cost_function(X, y, theta):\n",
        "    \"\"\"\n",
        "    cost_function(X, y, theta) computes the cost of using theta as the\n",
        "    parameter for linear regression to fit the data points in X and y\n",
        "    \"\"\"\n",
        "    ## number of training examples\n",
        "    m = len(y) \n",
        "    \n",
        "    ## Calculate the cost with the given parameters\n",
        "    J = np.sum((X.dot(theta)-y)**2)/2/m\n",
        "    \n",
        "    return J"
      ],
      "metadata": {
        "id": "YytqgfXF9gsl"
      },
      "execution_count": null,
      "outputs": []
    },
    {
      "cell_type": "code",
      "source": [
        "cost_function(X, y, theta)"
      ],
      "metadata": {
        "id": "I9OpT-R-9gqi"
      },
      "execution_count": null,
      "outputs": []
    },
    {
      "cell_type": "code",
      "source": [
        "def gradient_descent(X, y, theta, alpha, iterations):\n",
        "    \"\"\"\n",
        "    gradient_descent Performs gradient descent to learn theta\n",
        "    theta = GRADIENTDESENT(X, y, theta, alpha, num_iters) updates theta by \n",
        "    taking num_iters gradient steps with learning rate alpha\n",
        "    \"\"\"\n",
        "    cost_history = [0] * iterations\n",
        "    \n",
        "    for iteration in range(iterations):\n",
        "        hypothesis = X.dot(theta)\n",
        "        loss = hypothesis-y\n",
        "        gradient = X.T.dot(loss)/m\n",
        "        theta = theta - alpha*gradient\n",
        "        cost = cost_function(X, y, theta)\n",
        "        cost_history[iteration] = cost\n",
        "\n",
        "    return theta, cost_history\n",
        "     "
      ],
      "metadata": {
        "id": "qirqhXas9goQ"
      },
      "execution_count": null,
      "outputs": []
    },
    {
      "cell_type": "code",
      "source": [
        "(t, c) = gradient_descent(X,y,theta,alpha,iterations)"
      ],
      "metadata": {
        "id": "8p7mIQru9gmK"
      },
      "execution_count": null,
      "outputs": []
    },
    {
      "cell_type": "code",
      "source": [
        "## Print theta parameters\n",
        "print(t)"
      ],
      "metadata": {
        "id": "h9K7nZJ-9gkC"
      },
      "execution_count": null,
      "outputs": []
    },
    {
      "cell_type": "code",
      "source": [
        "## Prediction\n",
        "print(np.array([3.5, 1]).dot(t))\n",
        "print(np.array([7, 1]).dot(t))"
      ],
      "metadata": {
        "id": "RxAq2des9svO"
      },
      "execution_count": null,
      "outputs": []
    },
    {
      "cell_type": "code",
      "source": [
        "## Plotting the best fit line\n",
        "best_fit_x = np.linspace(0, 25, 20)\n",
        "best_fit_y = [t[1] + t[0]*xx for xx in best_fit_x]"
      ],
      "metadata": {
        "id": "t26j2sYW9stD"
      },
      "execution_count": null,
      "outputs": []
    },
    {
      "cell_type": "code",
      "source": [
        "plt.figure(figsize=(10,6))\n",
        "plt.plot(X_df.attempt, y_df, '.')\n",
        "plt.plot(best_fit_x, best_fit_y, '-')\n",
        "plt.axis([0,40,0,10])\n",
        "plt.xlabel('Number of Attempts')\n",
        "plt.ylabel('Marks Obtained')\n",
        "plt.title('Progress Report of Student A in Topic 1')\n",
        "plt.plot([0, 40], [2,10], '-')"
      ],
      "metadata": {
        "id": "FfYLZvtg9sq6"
      },
      "execution_count": null,
      "outputs": []
    },
    {
      "cell_type": "code",
      "source": [
        "dftrain = pd.read_csv('edutrain.csv') # training data\n",
        "dfeval = pd.read_csv('eduval.csv') # testing data\n",
        "y_train = dftrain.pop('score')\n",
        "y_eval = dfeval.pop('score')"
      ],
      "metadata": {
        "id": "cA8Qpg899soh"
      },
      "execution_count": null,
      "outputs": []
    },
    {
      "cell_type": "code",
      "source": [
        "def make_input_fn(data_df, label_df, num_epochs=10, shuffle=True, batch_size=32):\n",
        "  def input_function():  # inner function, this will be returned\n",
        "    ds = tf.data.Dataset.from_tensor_slices((dict(data_df), label_df))  # create tf.data.Dataset object with data and its label\n",
        "    if shuffle:\n",
        "      ds = ds.shuffle(1000)  # randomize order of data\n",
        "    ds = ds.batch(batch_size).repeat(num_epochs)  # split dataset into batches of 32 and repeat process for number of epochs\n",
        "    return ds  # return a batch of the dataset\n",
        "  return input_function  # return a function object for use\n",
        "\n",
        "train_input_fn = make_input_fn(dftrain, y_train)  # here we will call the input_function that was returned to us to get a dataset object we can feed to the model\n",
        "eval_input_fn = make_input_fn(dfeval, y_eval, num_epochs=1, shuffle=False)"
      ],
      "metadata": {
        "id": "HffxBnlm9smc"
      },
      "execution_count": null,
      "outputs": []
    },
    {
      "cell_type": "code",
      "source": [
        "CATEGORICAL_COLUMNS = ['pass']\n",
        "NUMERIC_COLUMNS = ['score','topic1', 'topic2', 'topic3', 'topic4', 'freq2', 'freq3', 'freq4']\n",
        "\n",
        "feature_columns = []\n",
        "for feature_name in CATEGORICAL_COLUMNS:\n",
        "  vocabulary = dftrain[feature_name].unique()  # gets a list of all unique values from given feature column\n",
        "  feature_columns.append(tf.feature_column.categorical_column_with_vocabulary_list(feature_name, vocabulary))\n",
        "\n",
        "for feature_name in NUMERIC_COLUMNS:\n",
        "  feature_columns.append(tf.feature_column.numeric_column(feature_name, dtype=tf.float32))\n",
        "\n",
        "print(feature_columns)"
      ],
      "metadata": {
        "id": "Iucnn6WW9ske"
      },
      "execution_count": null,
      "outputs": []
    },
    {
      "cell_type": "code",
      "source": [
        "linear_est = tf.estimator.LinearClassifier(feature_columns=feature_columns)"
      ],
      "metadata": {
        "id": "MyzSaAZd9yWy"
      },
      "execution_count": null,
      "outputs": []
    },
    {
      "cell_type": "code",
      "source": [
        "pred_dicts = list(linear_est.predict(eval_input_fn))\n",
        "probs = pd.Series([pred['probabilities'][1] for pred in pred_dicts])\n",
        "\n",
        "probs.plot(kind='hist', bins=20, title='predicted probabilities')"
      ],
      "metadata": {
        "id": "CcVvf5KF9yUk"
      },
      "execution_count": null,
      "outputs": []
    },
    {
      "cell_type": "code",
      "source": [
        "import random\n",
        "def sum(a,b):\n",
        "    a=random.randint()\n",
        "    b=random.randint()\n",
        "    s=0\n",
        "    print(\"What is”,a,”+”,b,”=“)\n",
        "    su=int(input())\n",
        "    print(su)\n",
        "    s=a+b\n",
        "    \n",
        "def diff(a,b):\n",
        "    a=random.randint()\n",
        "    b=random.randint()\n",
        "    difference=0\n",
        "    print(\"What is\",a,\"-\",b,\"=\")\n",
        "    d=int(input())\n",
        "    print(d)\n",
        "    difference=a-b\n",
        "        \n",
        "def prod(a,b):\n",
        "    a=random.randint()\n",
        "    b=random.randint()\n",
        "    product=1\n",
        "    print(\"What is\",a,\"x\",b,\"=\")\n",
        "    p=int(input())\n",
        "    print(p)\n",
        "    product=a*b\n",
        "    \n",
        "def quot(a,b):\n",
        "    while quotient!=0:\n",
        "        if a/b==0 and b!=0:\n",
        "            print(\"What is\",a,\"/\",b,\"=\")\n",
        "            q=int(input())\n",
        "            print(q)\n",
        "            quotient=a/b\n",
        "        else:\n",
        "        a=random.randint(0,10)\n",
        "        b=random.randint(0,10)\n",
        "        \n",
        "print(\"Hello, please answer the questions below :\\n\")\n",
        "\n",
        "marks=0\n",
        "sum(a,b)\n",
        "if  s==su:\n",
        "    marks+=1\n",
        "        \n",
        "diff(a,b)\n",
        "if d==difference:\n",
        "    marks+=1\n",
        "    \n",
        "prod(a,b)\n",
        "if p==product:\n",
        "    marks+=1\n",
        "\n",
        "a=random.randint(0,10)\n",
        "b=random.randint(0,10)\n",
        "quotient=0\n",
        "quot(a,b)\n",
        "if q==quotient:\n",
        "    marks+=1\n"
      ],
      "metadata": {
        "id": "DMa7Lmk19ySk"
      },
      "execution_count": null,
      "outputs": []
    }
  ]
}